{
 "cells": [
  {
   "cell_type": "code",
   "execution_count": 45,
   "metadata": {},
   "outputs": [],
   "source": [
    "import json\n",
    "import pandas as pd"
   ]
  },
  {
   "cell_type": "code",
   "execution_count": 46,
   "metadata": {},
   "outputs": [],
   "source": [
    "json_file_name=\"crawling_on_hospital.json\"\n",
    "\n",
    "with open(json_file_name, \"r\", encoding=\"utf-8\") as st_json:\n",
    "    json_data = json.load(st_json)\n"
   ]
  },
  {
   "cell_type": "code",
   "execution_count": 47,
   "metadata": {},
   "outputs": [
    {
     "name": "stdout",
     "output_type": "stream",
     "text": [
      "{'의료기관명': '큰힘병원', '의료기관종별': '병원,의원', '의료기관주소': '부산 부산진구 신천대로 246', '전화번호': '051-715-7500', '근무시간': [{'요일': '금', '시간': {'0': '09:00 - 17:30', '1': '12:30 - 13:30 휴게시간'}}, {'요일': '토', '시간': {'0': '09:00 - 12:30'}}, {'요일': '일', '시간': {'0': '09:00 - 12:30'}}, {'요일': '월', '시간': {'0': '09:00 - 17:30', '1': '12:30 - 13:30 휴게시간'}}, {'요일': '화', '시간': {'0': '09:00 - 17:30', '1': '12:30 - 13:30 휴게시간'}}, {'요일': '수(10/9)', '시간': {'0': '09:00 - 16:00'}}, {'요일': '목', '시간': {'0': '09:00 - 17:30', '1': '12:30 - 13:30 휴게시간'}}, {'요일': '접기', '시간': {'0': '- ※ 주말(토요일, 일요일) 진료, 토요일 수술 가능'}}]}\n"
     ]
    }
   ],
   "source": [
    "print(json_data[0])"
   ]
  },
  {
   "cell_type": "code",
   "execution_count": 49,
   "metadata": {},
   "outputs": [
    {
     "name": "stdout",
     "output_type": "stream",
     "text": [
      "부산 부산진구 새싹로 5\n"
     ]
    }
   ],
   "source": [
    "for i in json_data:\n",
    "    try:\n",
    "        a = i['의료기관주소'].split(' ')\n",
    "        address = \" \".join(a[0:4])\n",
    "    except:\n",
    "        print(i)"
   ]
  },
  {
   "cell_type": "code",
   "execution_count": 15,
   "metadata": {},
   "outputs": [],
   "source": [
    "####### 도로명주소 위도 경도 값으로 바꿔주기 ########\n",
    "from geopy.geocoders import Nominatim\n",
    "geo_local = Nominatim(user_agent='South Korea')\n",
    "\n",
    "# 위도, 경도 반환하는 함수\n",
    "def geocoding(address):\n",
    "    try:\n",
    "        geo = geo_local.geocode(address)\n",
    "        x_y = [geo.latitude, geo.longitude]\n",
    "        return x_y\n",
    "\n",
    "    except:\n",
    "        return [0,0]"
   ]
  },
  {
   "cell_type": "code",
   "execution_count": 16,
   "metadata": {},
   "outputs": [],
   "source": [
    "#####주소를 위,경도 값으로 변환하기 #####\n",
    "latitude = []\n",
    "longitude =[]\n",
    "\n",
    "for i in address:\n",
    "    latitude.append(geocoding(i)[0])\n",
    "    longitude.append(geocoding(i)[1])"
   ]
  },
  {
   "cell_type": "code",
   "execution_count": 50,
   "metadata": {},
   "outputs": [
    {
     "name": "stdout",
     "output_type": "stream",
     "text": [
      "{'의료기관명': '큰힘병원', '의료기관종별': '병원,의원', '의료기관주소': '부산 부산진구 신천대로 246', '전화번호': '051-715-7500', '근무시간': [{'요일': '금', '시간': {'0': '09:00 - 17:30', '1': '12:30 - 13:30 휴게시간'}}, {'요일': '토', '시간': {'0': '09:00 - 12:30'}}, {'요일': '일', '시간': {'0': '09:00 - 12:30'}}, {'요일': '월', '시간': {'0': '09:00 - 17:30', '1': '12:30 - 13:30 휴게시간'}}, {'요일': '화', '시간': {'0': '09:00 - 17:30', '1': '12:30 - 13:30 휴게시간'}}, {'요일': '수(10/9)', '시간': {'0': '09:00 - 16:00'}}, {'요일': '목', '시간': {'0': '09:00 - 17:30', '1': '12:30 - 13:30 휴게시간'}}, {'요일': '접기', '시간': {'0': '- ※ 주말(토요일, 일요일) 진료, 토요일 수술 가능'}}], '위도': 35.1593831, '경도': 129.0501466}\n"
     ]
    }
   ],
   "source": [
    "for i in range(len(json_data)):\n",
    "    json_data[i]['위도'] = latitude[i]\n",
    "    json_data[i]['경도'] = longitude[i]\n",
    "print(json_data[0])\n",
    "    "
   ]
  },
  {
   "cell_type": "code",
   "execution_count": 51,
   "metadata": {},
   "outputs": [],
   "source": [
    "import json\n",
    "\n",
    "json_file_name = \"hospital_data.json\"\n",
    "with open(json_file_name, \"w\", encoding='utf-8') as json_file:\n",
    "    json.dump(json_data, json_file, ensure_ascii=False, indent=4)"
   ]
  }
 ],
 "metadata": {
  "kernelspec": {
   "display_name": ".venv",
   "language": "python",
   "name": "python3"
  },
  "language_info": {
   "codemirror_mode": {
    "name": "ipython",
    "version": 3
   },
   "file_extension": ".py",
   "mimetype": "text/x-python",
   "name": "python",
   "nbconvert_exporter": "python",
   "pygments_lexer": "ipython3",
   "version": "3.11.9"
  }
 },
 "nbformat": 4,
 "nbformat_minor": 2
}
